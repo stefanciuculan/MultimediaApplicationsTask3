{
 "cells": [
  {
   "cell_type": "code",
   "execution_count": 1,
   "id": "8e0f5aec-d109-43a6-9035-3a0ee7ef8c7e",
   "metadata": {},
   "outputs": [],
   "source": [
    "import numpy as np\n",
    "import matplotlib.pyplot as plt\n",
    "import wave\n",
    "import contextlib\n",
    "import cv2"
   ]
  },
  {
   "cell_type": "code",
   "execution_count": 2,
   "id": "9577640b-88dd-4786-aabf-4878fd95aca8",
   "metadata": {},
   "outputs": [],
   "source": [
    "def generate_spectrogram(audio_file, output_image):\n",
    "    with contextlib.closing(wave.open(audio_file, 'r')) as f:\n",
    "        params = f.getparams()\n",
    "        frames = f.readframes(params.nframes)\n",
    "        sample_rate = params.framerate\n",
    "        audio_data = np.frombuffer(frames, dtype=np.int16)\n",
    "        plt.specgram(audio_data, Fs=sample_rate, NFFT=1024, noverlap=512)\n",
    "        plt.axis('off')\n",
    "        plt.savefig(output_image, bbox_inches='tight', pad_inches=0)\n",
    "        plt.close()"
   ]
  },
  {
   "cell_type": "code",
   "execution_count": 3,
   "id": "16e33739-5e5a-48b0-9427-2dee71653bbc",
   "metadata": {},
   "outputs": [],
   "source": [
    "def convert_color_space(image_path, color_space):\n",
    "    image = cv2.imread(image_path)\n",
    "    if color_space == 'HSV':\n",
    "        converted_image = cv2.cvtColor(image, cv2.COLOR_BGR2HSV)\n",
    "    elif color_space == 'HLS':\n",
    "        converted_image = cv2.cvtColor(image, cv2.COLOR_BGR2HLS)\n",
    "    elif color_space == 'YCrCb':\n",
    "        converted_image = cv2.cvtColor(image, cv2.COLOR_BGR2YCrCb)\n",
    "    elif color_space == 'YUV':\n",
    "        converted_image = cv2.cvtColor(image, cv2.COLOR_BGR2YUV)\n",
    "    elif color_space == 'RGB':\n",
    "        converted_image = cv2.cvtColor(image, cv2.COLOR_BGR2RGB)\n",
    "    elif color_space == 'GRAY':\n",
    "        converted_image = cv2.cvtColor(image, cv2.COLOR_BGR2GRAY)\n",
    "    text = f'Color Space: {color_space}'\n",
    "    font = cv2.FONT_HERSHEY_SIMPLEX\n",
    "    font_scale = 1\n",
    "    color = (255, 255, 255) if color_space != 'RGB' else (0, 0, 0)\n",
    "    thickness = 2\n",
    "    position = (10, 30)\n",
    "    cv2.putText(converted_image, text, position, font, font_scale, color, thickness, cv2.LINE_AA)\n",
    "    cv2.imwrite(f'{color_space}_converted.png', converted_image)"
   ]
  },
  {
   "cell_type": "code",
   "execution_count": 4,
   "id": "1b4a94ac-70ff-4170-af5b-1184e5ab5954",
   "metadata": {},
   "outputs": [],
   "source": [
    "def save_compressed_versions(image_path):\n",
    "    image = cv2.imread(image_path)\n",
    "    cv2.imwrite('compressed_image.jpg', image, [int(cv2.IMWRITE_JPEG_QUALITY), 50])\n",
    "    cv2.imwrite('compressed_image.png', image)\n",
    "    cv2.imwrite('compressed_image.bmp', image)"
   ]
  },
  {
   "cell_type": "code",
   "execution_count": 5,
   "id": "56033953-9a10-4fde-9e50-8ce7ca663bb6",
   "metadata": {},
   "outputs": [
    {
     "name": "stderr",
     "output_type": "stream",
     "text": [
      "C:\\Users\\stefa\\miniconda3\\envs\\am\\lib\\site-packages\\matplotlib\\axes\\_axes.py:7947: RuntimeWarning: divide by zero encountered in log10\n",
      "  Z = 10. * np.log10(spec)\n"
     ]
    }
   ],
   "source": [
    "generate_spectrogram('./chillin39-20915.wav', 'output_spectrogram.png')"
   ]
  },
  {
   "cell_type": "code",
   "execution_count": 6,
   "id": "ca5c6cbb-dc08-4a9b-94df-9b2e0436b515",
   "metadata": {},
   "outputs": [],
   "source": [
    "convert_color_space('output_spectrogram.png', 'YUV')"
   ]
  },
  {
   "cell_type": "code",
   "execution_count": 7,
   "id": "e85cc10c-904d-47eb-a176-ff32ba99bcf5",
   "metadata": {},
   "outputs": [],
   "source": [
    "save_compressed_versions('output_spectrogram.png')"
   ]
  },
  {
   "cell_type": "code",
   "execution_count": null,
   "id": "0d2747f8-3d30-4528-bc07-18010fc74df7",
   "metadata": {},
   "outputs": [],
   "source": []
  }
 ],
 "metadata": {
  "kernelspec": {
   "display_name": "Python 3 (ipykernel)",
   "language": "python",
   "name": "python3"
  },
  "language_info": {
   "codemirror_mode": {
    "name": "ipython",
    "version": 3
   },
   "file_extension": ".py",
   "mimetype": "text/x-python",
   "name": "python",
   "nbconvert_exporter": "python",
   "pygments_lexer": "ipython3",
   "version": "3.10.2"
  }
 },
 "nbformat": 4,
 "nbformat_minor": 5
}
